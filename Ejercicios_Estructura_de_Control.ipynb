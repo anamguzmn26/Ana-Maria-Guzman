{
  "nbformat": 4,
  "nbformat_minor": 0,
  "metadata": {
    "colab": {
      "provenance": [],
      "authorship_tag": "ABX9TyMapqHqn3QG7BhjDipS1P3o",
      "include_colab_link": true
    },
    "kernelspec": {
      "name": "python3",
      "display_name": "Python 3"
    },
    "language_info": {
      "name": "python"
    }
  },
  "cells": [
    {
      "cell_type": "markdown",
      "metadata": {
        "id": "view-in-github",
        "colab_type": "text"
      },
      "source": [
        "<a href=\"https://colab.research.google.com/github/anamguzmn26/Ana-Maria-Guzman/blob/main/Ejercicios_Estructura_de_Control.ipynb\" target=\"_parent\"><img src=\"https://colab.research.google.com/assets/colab-badge.svg\" alt=\"Open In Colab\"/></a>"
      ]
    },
    {
      "cell_type": "markdown",
      "source": [
        "1. Adivina el Número Secreto\n",
        "    \"Imagina un juego en el que se establece un valor numérico oculto y el usuario debe descubrirlo mediante intentos sucesivos. Después de cada intento, el sistema indicará si el valor propuesto es mayor o menor que el número guardado, de manera que el usuario ajuste su respuesta. El proceso continuará hasta que se alcance el valor correcto, momento en el cual se mostrará un mensaje de felicitación.\"\n"
      ],
      "metadata": {
        "id": "uVbyeXsR_tny"
      }
    },
    {
      "cell_type": "code",
      "source": [
        "def adivina_numero_secreto():\n",
        "    secreto = random.randint(1, 100)\n",
        "    intento = None\n",
        "    while intento != secreto:\n",
        "        intento = int(input(\"Adivina el número secreto (entre 1 y 100): \"))\n",
        "        if intento < secreto:\n",
        "            print(\"El número es mayor.\")\n",
        "        elif intento > secreto:\n",
        "            print(\"El número es menor.\")\n",
        "    print(\"¡Felicidades! Has adivinado el número.\")\n"
      ],
      "metadata": {
        "id": "L67zGWTzAC2Z"
      },
      "execution_count": 1,
      "outputs": []
    },
    {
      "cell_type": "markdown",
      "source": [
        "2. Validación de Contraseña Segura\\n\",\n",
        "    \"Se requiere crear un mecanismo en el que el usuario introduzca una clave y el sistema verifique que cumpla ciertos requisitos, como una longitud mínima, la inclusión de letras tanto en mayúsculas como en minúsculas y la presencia de números. Si la entrada no satisface estos criterios, el programa deberá solicitar una nueva clave hasta que la condición se cumpla. El resultado final mostrará que la clave proporcionada es segura.\""
      ],
      "metadata": {
        "id": "cm1FTkF9AGLJ"
      }
    },
    {
      "cell_type": "code",
      "source": [
        "def validacion_contraseña():\n",
        "    while True:\n",
        "        contraseña = input(\"Ingrese una contraseña segura: \")\n",
        "        if (len(contraseña) >= 8 and any(c.isupper() for c in contraseña) and\n",
        "            any(c.islower() for c in contraseña) and any(c.isdigit() for c in contraseña)):\n",
        "            print(\"Contraseña segura.\")\n",
        "            break\n",
        "        else:\n",
        "            print(\"La contraseña debe tener al menos 8 caracteres, incluir mayúsculas, minúsculas y números.\")"
      ],
      "metadata": {
        "id": "60Q8Ey6wAK0S"
      },
      "execution_count": 4,
      "outputs": []
    },
    {
      "cell_type": "markdown",
      "source": [
        "3. Control de Acceso a un Evento Exclusivo\\n\",\n",
        "    \"Desarrolla una solución en la que se pida al usuario ingresar ciertos datos personales, como su edad y si dispone de una invitación especial. Con base en los valores ingresados, el sistema determinará si el usuario puede acceder al evento o no, mostrando un mensaje que indique su admisión o rechazo. La lógica debe considerar las diferentes combinaciones posibles de respuestas para garantizar una correcta evaluación.\""
      ],
      "metadata": {
        "id": "y-fG7pG8ALIh"
      }
    },
    {
      "cell_type": "code",
      "source": [
        "def control_acceso_evento():\n",
        "    edad = int(input(\"Ingrese su edad: \"))\n",
        "    invitacion = input(\"¿Tiene invitación especial? (si/no): \").strip().lower()\n",
        "    if edad >= 18 or invitacion == \"si\":\n",
        "        print(\"Acceso permitido.\")\n",
        "    else:\n",
        "        print(\"Acceso denegado.\")"
      ],
      "metadata": {
        "id": "vDq2o-BiAi0B"
      },
      "execution_count": null,
      "outputs": []
    },
    {
      "cell_type": "markdown",
      "source": [
        "4. Cálculo del Factorial de un Número\\n\",\n",
        "    \"El desafío consiste en permitir que el usuario introduzca un número entero y, a partir de ese valor, obtener el producto de todos los números enteros positivos hasta alcanzarlo. La idea es acumular el resultado paso a paso, multiplicando cada valor intermedio, para finalmente mostrar el valor resultante que representa el factorial del número dado. Este ejercicio ayudará a comprender el proceso de acumulación mediante iteraciones.\""
      ],
      "metadata": {
        "id": "xS1DQW5gAO9x"
      }
    },
    {
      "cell_type": "code",
      "source": [
        "def calculo_factorial():\n",
        "    num = int(input(\"Ingrese un número entero para calcular su factorial: \"))\n",
        "    factorial = 1\n",
        "    for i in range(1, num + 1):\n",
        "        factorial *= i\n",
        "    print(f\"El factorial de {num} es {factorial}.\")"
      ],
      "metadata": {
        "id": "e0z8AwHSATaB"
      },
      "execution_count": null,
      "outputs": []
    },
    {
      "cell_type": "markdown",
      "source": [
        "5. Generación de una Tabla de Multiplicar\\n\",\n",
        "    \"Se solicita diseñar una herramienta que pida al usuario un número entero y genere su tabla de multiplicar hasta un límite preestablecido. Para ello, se debe recorrer una serie de números, calcular el producto correspondiente para cada uno y exhibir los resultados de forma ordenada y legible. La solución debe permitir al usuario visualizar claramente todos los resultados de la tabla generada.\""
      ],
      "metadata": {
        "id": "iylbKFaaAUI5"
      }
    },
    {
      "cell_type": "code",
      "source": [
        "def tabla_multiplicar():\n",
        "    num = int(input(\"Ingrese un número para ver su tabla de multiplicar: \"))\n",
        "    limite = 10\n",
        "    for i in range(1, limite + 1):\n",
        "        print(f\"{num} x {i} = {num * i}\")"
      ],
      "metadata": {
        "id": "_LfSeQPoAXfx"
      },
      "execution_count": null,
      "outputs": []
    }
  ]
}